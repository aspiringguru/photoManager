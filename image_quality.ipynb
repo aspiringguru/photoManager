{
 "cells": [
  {
   "cell_type": "code",
   "execution_count": 1,
   "metadata": {},
   "outputs": [],
   "source": [
    "#pip install imutils"
   ]
  },
  {
   "cell_type": "code",
   "execution_count": 2,
   "metadata": {},
   "outputs": [],
   "source": [
    "from imutils import paths\n",
    "import imutils\n",
    "import argparse\n",
    "import cv2\n",
    "import os\n",
    "from PIL import Image, ImageDraw, ImageFont \n",
    "import datetime\n",
    "import platform #use to check win or linux as some python functions are different."
   ]
  },
  {
   "cell_type": "code",
   "execution_count": 3,
   "metadata": {},
   "outputs": [
    {
     "name": "stdout",
     "output_type": "stream",
     "text": [
      "imutils.__version__: 0.5.3\n",
      "argparse.__version__ 1.1\n",
      "cv2.__version__: 4.1.1\n",
      "Image.__version__: 6.1.0\n",
      "platform.__version__: 1.0.8\n"
     ]
    }
   ],
   "source": [
    "print(\"imutils.__version__:\", imutils.__version__)\n",
    "print(\"argparse.__version__\", argparse.__version__)\n",
    "print(\"cv2.__version__:\", cv2.__version__)\n",
    "print(\"Image.__version__:\", Image.__version__)\n",
    "print(\"platform.__version__:\", platform.__version__)"
   ]
  },
  {
   "cell_type": "code",
   "execution_count": 4,
   "metadata": {},
   "outputs": [],
   "source": [
    "BASE_DIR = \"/mnt/g/salsaSolo2019\"\n",
    "PHOTO_SUFFIX = \".jpg\"\n",
    "WATERMARKED_DIR = \"watermarked\"\n",
    "FILE_DATESTAMP_NAME = \"salsa_solo_2019_file_list_rev3.csv\"\n"
   ]
  },
  {
   "cell_type": "code",
   "execution_count": 5,
   "metadata": {},
   "outputs": [
    {
     "name": "stdout",
     "output_type": "stream",
     "text": [
      "# of subdirectories =  99\n"
     ]
    }
   ],
   "source": [
    "dirlist = [x[0] for x in os.walk(BASE_DIR)]\n",
    "print(\"# of subdirectories = \", len(dirlist))"
   ]
  },
  {
   "cell_type": "code",
   "execution_count": null,
   "metadata": {},
   "outputs": [],
   "source": [
    "count = 0\n",
    "for dir in dirlist:\n",
    "    print(\"count:\", count)\n",
    "    files = os.listdir(dir)\n",
    "    print(\"number of files = \", len(files))\n",
    "    for file in files:\n",
    "        print(\"file:\", file)\n",
    "        file_suffix = file[-4:].lower()\n",
    "        if file_suffix == PHOTO_SUFFIX:\n",
    "            print(file, \" is a photo\")\n",
    "            temp = BASE_DIR+\"/\"+WATERMARKED_DIR\n",
    "            if not os.path.isdir(temp):\n",
    "                print(\"creating watermarked directory:\"+temp)\n",
    "                os.mkdir(temp)\n",
    "            print(\"dir+file=\"+dir+\"/\"+file)\n",
    "            image = Image.open(dir+\"/\"+file)\n",
    "            #break\n",
    "    #if count == 3:\n",
    "        #break\n",
    "    count += 1\n"
   ]
  }
 ],
 "metadata": {
  "kernelspec": {
   "display_name": "Python 3",
   "language": "python",
   "name": "python3"
  },
  "language_info": {
   "codemirror_mode": {
    "name": "ipython",
    "version": 3
   },
   "file_extension": ".py",
   "mimetype": "text/x-python",
   "name": "python",
   "nbconvert_exporter": "python",
   "pygments_lexer": "ipython3",
   "version": "3.7.3"
  }
 },
 "nbformat": 4,
 "nbformat_minor": 2
}
